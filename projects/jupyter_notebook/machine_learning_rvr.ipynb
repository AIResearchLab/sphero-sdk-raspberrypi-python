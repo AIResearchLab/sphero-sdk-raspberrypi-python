{
 "cells": [
  {
   "cell_type": "markdown",
   "metadata": {},
   "source": [
    "First, we have to import all the libraries we will be using. In this tutorial we will be using Keras, Matplotlib, NumPy, time, requests, sys, json, and OpenCV 4.1 (cv2). For more info on how to download these libraries, refer to the documentation posted by the creators of the libraries."
   ]
  },
  {
   "cell_type": "code",
   "execution_count": 1,
   "metadata": {},
   "outputs": [
    {
     "name": "stderr",
     "output_type": "stream",
     "text": [
      "Using TensorFlow backend.\n"
     ]
    }
   ],
   "source": [
    "import requests\n",
    "import numpy as np\n",
    "from matplotlib import pyplot as plt\n",
    "from keras.models import Sequential\n",
    "from keras.layers import Dense, Dropout, Activation, Flatten\n",
    "from keras.utils import np_utils\n",
    "from keras.datasets import mnist\n",
    "from keras.models import load_model\n",
    "import time\n",
    "import cv2\n",
    "import sys\n",
    "import json"
   ]
  },
  {
   "cell_type": "markdown",
   "metadata": {},
   "source": [
    "In this cell we load the **MNIST Dataset**. This dataset contains thousands of pictures of handwritten digits for us to train and test our neural network on. X variables contain the images we will train on while the y variables contain the corresponding labels for the images."
   ]
  },
  {
   "cell_type": "code",
   "execution_count": 2,
   "metadata": {},
   "outputs": [],
   "source": [
    "(X_train, y_train), (X_test, y_test) = mnist.load_data()"
   ]
  },
  {
   "cell_type": "markdown",
   "metadata": {},
   "source": [
    "Next, we have to create a random seed for NumPy's random number generator. We can do this by using the current time using the time.time() function and casting the result to an integer. \n",
    "\n",
    "We can make sure that our data loaded correctly by printing out an example from our training set using Matplotlib's imshow() function."
   ]
  },
  {
   "cell_type": "code",
   "execution_count": 3,
   "metadata": {},
   "outputs": [
    {
     "data": {
      "text/plain": [
       "<matplotlib.image.AxesImage at 0x13844dcc0>"
      ]
     },
     "execution_count": 3,
     "metadata": {},
     "output_type": "execute_result"
    },
    {
     "data": {
      "image/png": "[encoded data removed]",
      "text/plain": [
       "<Figure size 432x288 with 1 Axes>"
      ]
     },
     "metadata": {
      "needs_background": "light"
     },
     "output_type": "display_data"
    }
   ],
   "source": [
    "seed = int(time.time())\n",
    "np.random.seed(seed)\n",
    "plt.imshow(X_train[2])"
   ]
  },
  {
   "cell_type": "markdown",
   "metadata": {},
   "source": [
    "Before we use the data to train our neural network, we have to \"clean up\" the data to make it easier for our neural network to make accurate predictions after it is trained. We can do this by inverting the color of the images and makeing them only black and white (color values of 255 or 0). The final data transformation is done using the `reshape()` function. This function turns the data into a 7"
   ]
  },
  {
   "cell_type": "code",
   "execution_count": 4,
   "metadata": {},
   "outputs": [
    {
     "name": "stdout",
     "output_type": "stream",
     "text": [
      "(10000, 784)\n"
     ]
    },
    {
     "data": {
      "image/png": "[encoded data removed]",
      "text/plain": [
       "<Figure size 432x288 with 1 Axes>"
      ]
     },
     "metadata": {
      "needs_background": "light"
     },
     "output_type": "display_data"
    }
   ],
   "source": [
    "\n",
    "for i in range(0,len(X_train)):\n",
    "    X_train[i] = cv2.bitwise_not(X_train[i])\n",
    "    X_train[i][X_train[i]<255] = 0\n",
    "\n",
    "for i in range(0, len(X_test)):\n",
    "    X_test[i]= cv2.bitwise_not(X_test[i])\n",
    "    X_test[i][X_test[i]<255] = 0\n",
    "\n",
    "\n",
    "plt.imshow(X_train[2])\n",
    "\n",
    "\n",
    "num_pixels = X_train.shape[1] * X_train.shape[2]\n",
    "X_train = X_train.reshape(X_train.shape[0], num_pixels).astype('float32')\n",
    "X_test = X_test.reshape(X_test.shape[0], num_pixels).astype('float32')\n",
    "print(X_test.shape)"
   ]
  },
  {
   "cell_type": "markdown",
   "metadata": {},
   "source": [
    "We can normalize our data by dividing each data point by 255. Because the data is currently grayscale, the color values can range between 0-255. Normalizing the data gives us a smaller range of variability in our inputs/outputs."
   ]
  },
  {
   "cell_type": "code",
   "execution_count": 5,
   "metadata": {},
   "outputs": [],
   "source": [
    "X_train = X_train / 255\n",
    "X_test = X_test / 255"
   ]
  },
  {
   "cell_type": "markdown",
   "metadata": {},
   "source": [
    "Since computers don't automatically know the difference between number labels such as \"One\" or \"Seven\", we can use a **one hot encoding** of the values for each class by calling the `np_utils.to_categorical()` function. To learn more about how **one hot encoding** works, click [here](https://medium.com/@oraheem/one-hot-encoding-in-machine-learning-b2d344284d9e)"
   ]
  },
  {
   "cell_type": "code",
   "execution_count": 6,
   "metadata": {},
   "outputs": [],
   "source": [
    "y_train = np_utils.to_categorical(y_train)\n",
    "y_test = np_utils.to_categorical(y_test)\n",
    "num_classes = y_test.shape[1]"
   ]
  },
  {
   "cell_type": "markdown",
   "metadata": {},
   "source": [
    "Next, we have to create the model itself. Our model will be a simple neural network with a single hidden layer that has 784 neurons. This layer will use [RELU](https://en.wikipedia.org/wiki/Rectifier_(neural_networks)) as its activation function. The activation function that we will use on our output layer will be a [softmax](https://en.wikipedia.org/wiki/Softmax_function). This allows our outputs to be proababilities corresponding to which number the neural network is predicting."
   ]
  },
  {
   "cell_type": "code",
   "execution_count": 7,
   "metadata": {},
   "outputs": [],
   "source": [
    "def baseline_model():\n",
    "\t# create model\n",
    "\tmodel = Sequential()\n",
    "\tmodel.add(Dense(num_pixels, input_dim=num_pixels, kernel_initializer='normal', activation='relu'))\n",
    "\tmodel.add(Dense(num_classes, kernel_initializer='normal', activation='softmax'))\n",
    "\t# Compile model\n",
    "\tmodel.compile(loss='categorical_crossentropy', optimizer='adam', metrics=['accuracy'])\n",
    "\treturn model"
   ]
  },
  {
   "cell_type": "markdown",
   "metadata": {},
   "source": [
    "**This cell should only be run if you have already saved a model. This allows the user to not re-train a model that has already been trained.**"
   ]
  },
  {
   "cell_type": "code",
   "execution_count": null,
   "metadata": {},
   "outputs": [],
   "source": [
    "model = load_model('model.h5')"
   ]
  },
  {
   "cell_type": "markdown",
   "metadata": {},
   "source": [
    "This is the cell where we fit the model to the data. The model is trained on the data for 10 epochs, and it is tested against the `X_test` dataset. Through this process, we can measure the accuracy of our model by its error. This cell may take a few minutes to run."
   ]
  },
  {
   "cell_type": "code",
   "execution_count": 8,
   "metadata": {
    "scrolled": false
   },
   "outputs": [
    {
     "name": "stderr",
     "output_type": "stream",
     "text": [
      "WARNING: Logging before flag parsing goes to stderr.\n",
      "W0725 16:28:57.509578 4561819072 deprecation_wrapper.py:119] From /Users/abajo01/.pyenv/versions/3.5.3/lib/python3.5/site-packages/keras/backend/tensorflow_backend.py:74: The name tf.get_default_graph is deprecated. Please use tf.compat.v1.get_default_graph instead.\n",
      "\n",
      "W0725 16:28:57.556096 4561819072 deprecation_wrapper.py:119] From /Users/abajo01/.pyenv/versions/3.5.3/lib/python3.5/site-packages/keras/backend/tensorflow_backend.py:517: The name tf.placeholder is deprecated. Please use tf.compat.v1.placeholder instead.\n",
      "\n",
      "W0725 16:28:57.572103 4561819072 deprecation_wrapper.py:119] From /Users/abajo01/.pyenv/versions/3.5.3/lib/python3.5/site-packages/keras/backend/tensorflow_backend.py:4115: The name tf.random_normal is deprecated. Please use tf.random.normal instead.\n",
      "\n",
      "W0725 16:28:57.618942 4561819072 deprecation_wrapper.py:119] From /Users/abajo01/.pyenv/versions/3.5.3/lib/python3.5/site-packages/keras/optimizers.py:790: The name tf.train.Optimizer is deprecated. Please use tf.compat.v1.train.Optimizer instead.\n",
      "\n",
      "W0725 16:28:57.651184 4561819072 deprecation_wrapper.py:119] From /Users/abajo01/.pyenv/versions/3.5.3/lib/python3.5/site-packages/keras/backend/tensorflow_backend.py:3295: The name tf.log is deprecated. Please use tf.math.log instead.\n",
      "\n",
      "W0725 16:28:57.770878 4561819072 deprecation.py:323] From /Users/abajo01/.pyenv/versions/3.5.3/lib/python3.5/site-packages/tensorflow/python/ops/math_grad.py:1250: add_dispatch_support.<locals>.wrapper (from tensorflow.python.ops.array_ops) is deprecated and will be removed in a future version.\n",
      "Instructions for updating:\n",
      "Use tf.where in 2.0, which has the same broadcast rule as np.where\n",
      "W0725 16:28:57.832034 4561819072 deprecation_wrapper.py:119] From /Users/abajo01/.pyenv/versions/3.5.3/lib/python3.5/site-packages/keras/backend/tensorflow_backend.py:986: The name tf.assign_add is deprecated. Please use tf.compat.v1.assign_add instead.\n",
      "\n"
     ]
    },
    {
     "name": "stdout",
     "output_type": "stream",
     "text": [
      "Train on 60000 samples, validate on 10000 samples\n",
      "Epoch 1/10\n",
      " - 5s - loss: 0.4933 - acc: 0.8526 - val_loss: 0.2966 - val_acc: 0.9144\n",
      "Epoch 2/10\n",
      " - 5s - loss: 0.2637 - acc: 0.9207 - val_loss: 0.2057 - val_acc: 0.9380\n",
      "Epoch 3/10\n",
      " - 5s - loss: 0.2005 - acc: 0.9402 - val_loss: 0.1707 - val_acc: 0.9519\n",
      "Epoch 4/10\n",
      " - 4s - loss: 0.1564 - acc: 0.9525 - val_loss: 0.1447 - val_acc: 0.9586\n",
      "Epoch 5/10\n",
      " - 4s - loss: 0.1313 - acc: 0.9608 - val_loss: 0.1226 - val_acc: 0.9626\n",
      "Epoch 6/10\n",
      " - 4s - loss: 0.1163 - acc: 0.9644 - val_loss: 0.1300 - val_acc: 0.9617\n",
      "Epoch 7/10\n",
      " - 4s - loss: 0.1020 - acc: 0.9691 - val_loss: 0.1136 - val_acc: 0.9674\n",
      "Epoch 8/10\n",
      " - 4s - loss: 0.0928 - acc: 0.9715 - val_loss: 0.1103 - val_acc: 0.9666\n",
      "Epoch 9/10\n",
      " - 4s - loss: 0.0844 - acc: 0.9738 - val_loss: 0.1061 - val_acc: 0.9676\n",
      "Epoch 10/10\n",
      " - 5s - loss: 0.0764 - acc: 0.9761 - val_loss: 0.1034 - val_acc: 0.9675\n",
      "Baseline Error: 3.25%\n"
     ]
    }
   ],
   "source": [
    "model = baseline_model()\n",
    "model.fit(X_train, y_train, validation_data=(X_test, y_test), epochs=10, batch_size=200, verbose=2)\n",
    "scores = model.evaluate(X_test, y_test, verbose=0)\n",
    "print(\"Baseline Error: %.2f%%\" % (100-scores[1]*100))"
   ]
  },
  {
   "cell_type": "markdown",
   "metadata": {},
   "source": [
    "After training our model, we can save it to a .h5 file so we can load it later. "
   ]
  },
  {
   "cell_type": "code",
   "execution_count": 9,
   "metadata": {
    "scrolled": false
   },
   "outputs": [],
   "source": [
    "model.save('model.h5')"
   ]
  },
  {
   "cell_type": "markdown",
   "metadata": {},
   "source": [
    "This next cell sets up the payloads to send to the Node.js server that will be running on the Raspberry Pi. Since the Raspberry Pi is not powerful enough to train a neural network, we train and use the model on the PC/Mac, then send commands over to the pi based on the model's predictions.\n",
    "\n",
    "The `pi_ip` variable should be replaced with the IP address of your Raspberry Pi.\n",
    "\n",
    "**NOTE: You must have the Node.js server running on the Raspberry Pi before the next cell is run.**"
   ]
  },
  {
   "cell_type": "code",
   "execution_count": null,
   "metadata": {},
   "outputs": [],
   "source": [
    "pi_ip = ''\n",
    "lights_url = 'http://{}:2010/api/v1.0/io/setAllLedsWith32BitMask/1'.format(pi_ip)\n",
    "motors_url = 'http://{}:2010/api/v1.0/drive/rawMotors/2'.format(pi_ip)\n",
    "drive_url = 'http://{}:2010/api/v1.0/drive/driveWithHeading/2'.format(pi_ip)\n",
    "wake_url = 'http://{}:2010/api/v1.0/power/wake/1'.format(pi_ip)\n",
    "\n",
    "headers = {\n",
    "    'Content-Type': 'application/json',\n",
    "    'accept': 'application/json'\n",
    "}\n",
    "\n",
    "\n",
    "payload0 = {\n",
    "        \"leftMode\" : 1,\n",
    "        \"rightMode\" : 2,\n",
    "        \"leftSpeed\" : 255,\n",
    "        \"rightSpeed\" : 255\n",
    "}\n",
    "\n",
    "payload1 = {\n",
    "        \"flags\": 0,\n",
    "        \"speed\": 128,\n",
    "        \"heading\": 0\n",
    "}\n",
    "\n",
    "payload2 = {\n",
    "        \"flags\": 0,\n",
    "        \"speed\": 128,\n",
    "        \"heading\": 90\n",
    "}\n",
    "\n",
    "payload3 = {\n",
    "        \"flags\": 0,\n",
    "        \"speed\": 128,\n",
    "        \"heading\": 180\n",
    "}\n",
    "\n",
    "payload4 = {\n",
    "        \"flags\": 0,\n",
    "        \"speed\": 128,\n",
    "        \"heading\": 270\n",
    "}\n",
    "\n",
    "payload5 = {\n",
    "        \"ledBrightnessValues\": [255, 0, 0,\n",
    "                                255, 0, 0,\n",
    "                                255, 0, 0,\n",
    "                                255, 0, 0,\n",
    "                                255, 0, 0,\n",
    "                                255, 0, 0,\n",
    "                                255, 0, 0,\n",
    "                                255, 0, 0,\n",
    "                                255, 0, 0,\n",
    "                                255, 0, 0],\n",
    "        \"ledGroup\": 1073741823\n",
    "}\n",
    "\n",
    "\n",
    "\n",
    "payload6 = {\n",
    "        \"ledBrightnessValues\": [0, 255, 0,\n",
    "                                0, 255, 0,\n",
    "                                0, 255, 0,\n",
    "                                0, 255, 0,\n",
    "                                0, 255, 0,\n",
    "                                0, 255, 0,\n",
    "                                0, 255, 0,\n",
    "                                0, 255, 0,\n",
    "                                0, 255, 0,\n",
    "                                0, 255, 0],\n",
    "        \"ledGroup\": 1073741823\n",
    "}\n",
    "\n",
    "payload7 = {\n",
    "        \"ledBrightnessValues\": [0, 0, 255,\n",
    "                                0, 0, 255,\n",
    "                                0, 0, 255,\n",
    "                                0, 0, 255,\n",
    "                                0, 0, 255,\n",
    "                                0, 0, 255,\n",
    "                                0, 0, 255,\n",
    "                                0, 0, 255,\n",
    "                                0, 0, 255,\n",
    "                                0, 0, 255],\n",
    "        \"ledGroup\": 1073741823\n",
    "}\n",
    "\n",
    "\n",
    "\n",
    "payload8 = {\n",
    "        \"ledBrightnessValues\": [255, 255, 0,\n",
    "                                255, 255, 0,\n",
    "                                255, 255, 0,\n",
    "                                255, 255, 0,\n",
    "                                255, 255, 0,\n",
    "                                255, 255, 0,\n",
    "                                255, 255, 0,\n",
    "                                255, 255, 0,\n",
    "                                255, 255, 0,\n",
    "                                255, 255, 0],\n",
    "        \"ledGroup\": 1073741823\n",
    "}\n",
    "\n",
    "payload9 = {\n",
    "        \"ledBrightnessValues\": [255, 255, 255,\n",
    "                                255, 255, 255,\n",
    "                                255, 255, 255,\n",
    "                                255, 255, 255,\n",
    "                                255, 255, 255,\n",
    "                                255, 255, 255,\n",
    "                                255, 255, 255,\n",
    "                                255, 255, 255,\n",
    "                                255, 255, 255,\n",
    "                                255, 255, 255],\n",
    "        \"ledGroup\": 1073741823\n",
    "}"
   ]
  },
  {
   "cell_type": "markdown",
   "metadata": {},
   "source": [
    "In this final cell, we start a camera feed. Because we only want the most important details from the camera feed, there are multiple filters applied to the image. We also resize it in the same way that we resized the training data.\n",
    "When on the pop-up window, if the 'q' key is pressed, the neural network will output its prediciton of what is currently on the camera and send the corresponding command to RVR. If the 'e' key is pressed, the feed will stop and the program with end until you re-run this cell."
   ]
  },
  {
   "cell_type": "code",
   "execution_count": null,
   "metadata": {
    "scrolled": false
   },
   "outputs": [],
   "source": [
    "requests.put(wake_url)\n",
    "\n",
    "video_capture = cv2.VideoCapture(0)\n",
    "video_capture.set(cv2.CAP_PROP_FRAME_WIDTH, 640)\n",
    "video_capture.set(cv2.CAP_PROP_FRAME_HEIGHT, 320)\n",
    "\n",
    "ret, frame = video_capture.read()\n",
    "print(frame.shape)\n",
    "ret,frame = video_capture.read()\n",
    "# Capture frame-by-frame\n",
    "while True:\n",
    "    ret, frame = video_capture.read()\n",
    "    width = int(frame.shape[1] * 4.375 / 100)\n",
    "    height = int(frame.shape[0] * 6 / 100)\n",
    "    dim = (width, height)\n",
    "    \n",
    "    frame = cv2.resize(frame, dim, interpolation = cv2.INTER_AREA)\n",
    "    frame = cv2.cvtColor(frame, cv2.COLOR_BGR2GRAY)\n",
    "    frame = cv2.GaussianBlur(frame,(3,3),0)\n",
    "    frame[frame<=100] = 0\n",
    "    frame[frame>100] = 255\n",
    "    kernel = cv2.getStructuringElement(cv2.MORPH_RECT, (2,2))\n",
    "    frame = cv2.morphologyEx(frame, cv2.MORPH_CLOSE, kernel)\n",
    "\n",
    "    pixels = frame.shape[0] * frame.shape[1]\n",
    "    reshaped = frame.reshape(pixels).astype('float32')\n",
    "    reshaped = reshaped /255\n",
    "    \n",
    "    cv2.imshow('Video', frame)\n",
    "    value = model.predict( np.array([reshaped,]))    \n",
    "    \n",
    "\n",
    "    if cv2.waitKey(1) & 0xFF == ord('q'):\n",
    "        if np.amax(value) >= .5:\n",
    "            decision = np.where(value == np.amax(value))[1][0]\n",
    "            print(decision)\n",
    "            print(frame.shape)\n",
    "            if decision == 1:\n",
    "                response = requests.put(drive_url, headers=headers,data=json.dumps(payload1))\n",
    "            elif decision == 2:\n",
    "                response = requests.put(drive_url, headers=headers,data=json.dumps(payload2))\n",
    "            elif decision == 3:\n",
    "                response = requests.put(drive_url, headers=headers,data=json.dumps(payload3))\n",
    "            elif decision == 4:\n",
    "                response = requests.put(drive_url, headers=headers,data=json.dumps(payload4))\n",
    "            elif decision == 5:\n",
    "                response = requests.put(lights_url, headers=headers,data=json.dumps(payload5))\n",
    "            elif decision == 6:\n",
    "                response = requests.put(lights_url, headers=headers,data=json.dumps(payload6))\n",
    "            elif decision == 7:\n",
    "                response = requests.put(lights_url, headers=headers,data=json.dumps(payload7))\n",
    "            elif decision == 8:\n",
    "                response = requests.put(lights_url, headers=headers,data=json.dumps(payload8))\n",
    "            elif decision == 9:\n",
    "                response = requests.put(lights_url, headers=headers,data=json.dumps(payload9))\n",
    "            elif decision == 0:\n",
    "                response = requests.put(motors_url, headers=headers,data=json.dumps(payload0))\n",
    "            \n",
    "            plt.imshow(frame)\n",
    "        else:\n",
    "            print('no number found!!')\n",
    "            #print(value)\n",
    "    if cv2.waitKey(1) & 0xFF == ord('e'):\n",
    "        break\n",
    "\n",
    "video_capture.release()\n",
    "cv2.destroyAllWindows()"
   ]
  },
  {
   "cell_type": "code",
   "execution_count": null,
   "metadata": {},
   "outputs": [],
   "source": []
  },
  {
   "cell_type": "code",
   "execution_count": null,
   "metadata": {},
   "outputs": [],
   "source": []
  }
 ],
 "metadata": {
  "kernelspec": {
   "display_name": "Python 3",
   "language": "python",
   "name": "python3"
  },
  "language_info": {
   "codemirror_mode": {
    "name": "ipython",
    "version": 3
   },
   "file_extension": ".py",
   "mimetype": "text/x-python",
   "name": "python",
   "nbconvert_exporter": "python",
   "pygments_lexer": "ipython3",
   "version": "3.5.3"
  }
 },
 "nbformat": 4,
 "nbformat_minor": 2
}
