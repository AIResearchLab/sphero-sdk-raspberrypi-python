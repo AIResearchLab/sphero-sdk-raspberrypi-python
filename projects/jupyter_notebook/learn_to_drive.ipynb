{
 "cells": [
  {
   "cell_type": "markdown",
   "metadata": {},
   "source": [
    "# Learn To Drive RVR"
   ]
  },
  {
   "cell_type": "markdown",
   "metadata": {},
   "source": [
    "Before we can run commands on the **RVR**, we must make a **RVR object** to call these commands.\n",
    "We do this by importing `ObserverSpheroRvr` and creating an **instance** of it.\n",
    "\n",
    "Calling `rvr.wake()` wakes up **RVR** and lets us start running commands on it. If **RVR** falls asleep during this demo, just call `rvr.wake()` again.\n",
    "\n",
    "***(Use Shift + Enter/Return to run a cell)***"
   ]
  },
  {
   "cell_type": "code",
   "execution_count": 1,
   "metadata": {},
   "outputs": [],
   "source": [
    "import sys \n",
    "sys.path.append('/home/pi/raspberry-pi/')\n",
    "from sphero_sdk import ObserverSpheroRvr\n",
    "\n",
    "rvr = ObserverSpheroRvr()\n",
    "rvr.wake()"
   ]
  },
  {
   "cell_type": "markdown",
   "metadata": {},
   "source": [
    "**RVR** has 2 main driving commands: `raw_motors()` and `drive_with_heading()` "
   ]
  },
  {
   "cell_type": "markdown",
   "metadata": {},
   "source": [
    "## `raw_motors()`"
   ]
  },
  {
   "cell_type": "markdown",
   "metadata": {},
   "source": [
    "The `raw_motors()` command has 2 parameters for each motor: **Mode** and **Speed**\n",
    "\n",
    "**Mode**: represents which direction the motors will drive in; 1 for forward, 2 for reverse\n",
    "\n",
    "**Speed**: 0-255 value that represents the raw speed of each motor\n",
    "\n",
    "Try changing the variables to make the **RVR's** motors run at different speeds and directions"
   ]
  },
  {
   "cell_type": "code",
   "execution_count": 9,
   "metadata": {},
   "outputs": [],
   "source": [
    "left_mode = 1\n",
    "right_mode = 1\n",
    "left_speed = 64\n",
    "right_speed = 64\n",
    "\n",
    "rvr.raw_motors(left_mode, left_speed, right_mode, right_speed)"
   ]
  },
  {
   "cell_type": "markdown",
   "metadata": {},
   "source": [
    "## `drive_with_heading()`"
   ]
  },
  {
   "cell_type": "markdown",
   "metadata": {},
   "source": [
    "The `drive_with_heading()` command has 3 parameters: **Speed**, **Heading**, and **Flags**\n",
    "\n",
    "**Speed**: 0-255 value that represents the raw speed of each motor\n",
    "\n",
    "**Heading**: 0-359 value that represents the heading (in degrees) of **RVR** with respect to its current **0˚ heading**. This **0˚ heading** can be changed using the `reset_yaw()` command which makes the current direction **RVR** is facing into its new **0˚ heading**.\n",
    "\n",
    "**Flags**: 0 to drive forward; 1 to drive in reverse\n",
    "\n",
    "Try changing the variables to make the **RVR's** run at different speeds and headings"
   ]
  },
  {
   "cell_type": "code",
   "execution_count": 11,
   "metadata": {},
   "outputs": [],
   "source": [
    "speed = 64\n",
    "heading = 0\n",
    "flags = 0\n",
    "\n",
    "rvr.drive_with_heading(speed, heading, flags)\n",
    "#rvr.reset_yaw()"
   ]
  },
  {
   "cell_type": "code",
   "execution_count": null,
   "metadata": {},
   "outputs": [],
   "source": []
  }
 ],
 "metadata": {
  "kernelspec": {
   "display_name": "Python 3",
   "language": "python",
   "name": "python3"
  },
  "language_info": {
   "codemirror_mode": {
    "name": "ipython",
    "version": 3
   },
   "file_extension": ".py",
   "mimetype": "text/x-python",
   "name": "python",
   "nbconvert_exporter": "python",
   "pygments_lexer": "ipython3",
   "version": "3.5.3"
  }
 },
 "nbformat": 4,
 "nbformat_minor": 2
}
