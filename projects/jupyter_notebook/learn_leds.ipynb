{
 "cells": [
  {
   "cell_type": "markdown",
   "metadata": {},
   "source": [
    "# Learn To Control RVR's LEDs"
   ]
  },
  {
   "cell_type": "markdown",
   "metadata": {},
   "source": [
    "Before we can run commands on the **RVR**, we must make a **RVR object** to call these commands.\n",
    "We do this by importing `ObserverSpheroRvr` and creating an **instance** of it.\n",
    "\n",
    "Calling `rvr.wake()` wakes up **RVR** and lets us start running commands on it. If **RVR** falls asleep during this demo, just call `rvr.wake()` again.\n",
    "\n",
    "***(Use Shift + Enter/Return to run a cell)***"
   ]
  },
  {
   "cell_type": "code",
   "execution_count": 1,
   "metadata": {},
   "outputs": [],
   "source": [
    "import sys \n",
    "sys.path.append('/home/pi/raspberry-pi/')\n",
    "from sphero_sdk import ObserverSpheroRvr\n",
    "\n",
    "rvr = ObserverSpheroRvr()\n",
    "rvr.wake()"
   ]
  },
  {
   "cell_type": "markdown",
   "metadata": {},
   "source": [
    "## `set_all_leds_with_32_bit_mask()`"
   ]
  },
  {
   "cell_type": "markdown",
   "metadata": {},
   "source": [
    "The `set_all_leds_with_32_bit_mask()` command has 2 parameters: **LED Group** and **LED Brightness Values**\n",
    "\n",
    "**LED Group**: A 32-bit mask that represents which LED's are going to be set. A spec of which bits represent which lights can be found on the [Sphero SDK Site](temp.com)\n",
    "\n",
    "**LED Brightness Values**: A list of 10 RGB triples representing the color of each light. The list must contain 30 integer values in total (not 10 lists of 3 RGB values)\n",
    "\n",
    "***Ex. [255, 255, 0] represents yellow while [0, 0, 255] represents blue***\n",
    "\n",
    "Try changing the **led_group** and **color** variables to make **RVR** light up in different colors."
   ]
  },
  {
   "cell_type": "code",
   "execution_count": 9,
   "metadata": {},
   "outputs": [],
   "source": [
    "led_group = 0x3FFFFFFF\n",
    "color = [100,255,0]\n",
    "\n",
    "# This for loop constructs a list of 30 values using the color variable\n",
    "led_brightness_values = []\n",
    "for i in range(0,10):\n",
    "    led_brightness_values.extend(color)\n",
    "    \n",
    "rvr.set_all_leds_with_32_bit_mask(led_group, led_brightness_values)"
   ]
  },
  {
   "cell_type": "code",
   "execution_count": null,
   "metadata": {},
   "outputs": [],
   "source": []
  }
 ],
 "metadata": {
  "kernelspec": {
   "display_name": "Python 3",
   "language": "python",
   "name": "python3"
  },
  "language_info": {
   "codemirror_mode": {
    "name": "ipython",
    "version": 3
   },
   "file_extension": ".py",
   "mimetype": "text/x-python",
   "name": "python",
   "nbconvert_exporter": "python",
   "pygments_lexer": "ipython3",
   "version": "3.5.3"
  }
 },
 "nbformat": 4,
 "nbformat_minor": 2
}
